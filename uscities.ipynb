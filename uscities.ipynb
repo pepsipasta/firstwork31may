{
  "nbformat": 4,
  "nbformat_minor": 0,
  "metadata": {
    "colab": {
      "provenance": [],
      "mount_file_id": "1dWYYyc7G6i3957I_3jpx3Q6fNYKes5-y",
      "authorship_tag": "ABX9TyM1VJ2G9l5vWK5EWhwikT86",
      "include_colab_link": true
    },
    "kernelspec": {
      "name": "python3",
      "display_name": "Python 3"
    },
    "language_info": {
      "name": "python"
    }
  },
  "cells": [
    {
      "cell_type": "markdown",
      "metadata": {
        "id": "view-in-github",
        "colab_type": "text"
      },
      "source": [
        "<a href=\"https://colab.research.google.com/github/pepsipasta/firstwork31may/blob/main/uscities.ipynb\" target=\"_parent\"><img src=\"https://colab.research.google.com/assets/colab-badge.svg\" alt=\"Open In Colab\"/></a>"
      ]
    },
    {
      "cell_type": "code",
      "execution_count": null,
      "metadata": {
        "colab": {
          "base_uri": "https://localhost:8080/"
        },
        "id": "i4xwrggrqSdJ",
        "outputId": "09050ca1-da44-4751-d39b-90c265c60d27"
      },
      "outputs": [
        {
          "output_type": "stream",
          "name": "stdout",
          "text": [
            "Mounted at /content/drive/\n"
          ]
        }
      ],
      "source": [
        "from google.colab import drive\n",
        "\n",
        "drive.mount('/content/drive/')"
      ]
    },
    {
      "cell_type": "code",
      "source": [
        "import pandas as pd\n",
        "import random"
      ],
      "metadata": {
        "id": "0pNmWdPdq6Kc"
      },
      "execution_count": null,
      "outputs": []
    },
    {
      "cell_type": "code",
      "source": [
        "city_data = pd.read_csv('/content/drive/MyDrive/uscities.csv')"
      ],
      "metadata": {
        "id": "m-7ZErbIqua-"
      },
      "execution_count": null,
      "outputs": []
    },
    {
      "cell_type": "code",
      "source": [
        "selected_cities = city_data.sample(n=1000, random_state=1)"
      ],
      "metadata": {
        "id": "wRq3eVVhq4j3"
      },
      "execution_count": null,
      "outputs": []
    },
    {
      "cell_type": "code",
      "source": [
        "# Helper functions to generate random water quality data\n",
        "def random_ph():\n",
        "    return round(random.uniform(6.5, 8.5), 1)\n",
        "\n",
        "def random_turbidity():\n",
        "    return round(random.uniform(0.1, 5.0), 1)\n",
        "\n",
        "def random_temperature():\n",
        "    return round(random.uniform(5.0, 30.0), 1)\n",
        "\n",
        "def random_dissolved_oxygen():\n",
        "    return round(random.uniform(5.0, 14.0), 1)\n",
        "\n",
        "def random_nitrate():\n",
        "    return round(random.uniform(0.0, 10.0), 1)\n",
        "\n",
        "def random_coliform():\n",
        "    return random.randint(0, 200)\n",
        "\n",
        "def random_wqi():\n",
        "    return round(random.uniform(0.0, 100.0), 1)\n",
        "\n",
        "def random_prediction():\n",
        "    return round(random.uniform(0.0, 100.0), 1)\n",
        "\n",
        "def random_risk():\n",
        "    return round(random.uniform(0.0, 1.0), 2)\n",
        "\n",
        "# Generate the dataset with water quality parameters\n",
        "data = {\n",
        "    'City': selected_cities['city'],\n",
        "    'County': selected_cities['county_name'],\n",
        "    'State': selected_cities['state_name'],\n",
        "    'Latitude': selected_cities['lat'],\n",
        "    'Longitude': selected_cities['lng'],\n",
        "    'pH Level': [random_ph() for _ in range(len(selected_cities))],\n",
        "    'Turbidity (NTU)': [random_turbidity() for _ in range(len(selected_cities))],\n",
        "    'Temperature (°C)': [random_temperature() for _ in range(len(selected_cities))],\n",
        "    'Dissolved Oxygen (mg/L)': [random_dissolved_oxygen() for _ in range(len(selected_cities))],\n",
        "    'Nitrate Levels (mg/L)': [random_nitrate() for _ in range(len(selected_cities))],\n",
        "    'Coliform Bacteria (CFU/100mL)': [random_coliform() for _ in range(len(selected_cities))],\n",
        "    'Water Quality Index (WQI)': [random_wqi() for _ in range(len(selected_cities))],\n",
        "    'Water Quality Prediction Index (WQPI)': [random_prediction() for _ in range(len(selected_cities))],\n",
        "    'Contamination Risk Score (CRS)': [random_risk() for _ in range(len(selected_cities))],\n",
        "}\n",
        "\n",
        "# Create a DataFrame\n",
        "water_quality_df = pd.DataFrame(data)\n",
        "\n",
        "# Save the dataset to a CSV file\n",
        "# Replace 'path_to_output_file.csv' with the desired output file path\n",
        "water_quality_df.to_csv('/content/drive/MyDrive/generateddata1000.csv', index=False)\n",
        "\n",
        "print(\"Dataset created successfully.\")"
      ],
      "metadata": {
        "colab": {
          "base_uri": "https://localhost:8080/"
        },
        "id": "qGXo8HR7rK2v",
        "outputId": "a18015fb-e392-48dc-e357-0a57fb987c63"
      },
      "execution_count": null,
      "outputs": [
        {
          "output_type": "stream",
          "name": "stdout",
          "text": [
            "Dataset created successfully.\n"
          ]
        }
      ]
    },
    {
      "cell_type": "code",
      "source": [],
      "metadata": {
        "id": "r-gRkZk7rrBf"
      },
      "execution_count": null,
      "outputs": []
    }
  ]
}